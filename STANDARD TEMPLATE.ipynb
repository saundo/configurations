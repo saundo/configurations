{
 "cells": [
  {
   "cell_type": "code",
   "execution_count": 1,
   "metadata": {},
   "outputs": [],
   "source": [
    "import os\n",
    "import pandas as pd\n",
    "import sys\n",
    "import datetime as dt\n",
    "import importlib\n",
    "import pdb\n",
    "\n",
    "sys.path.insert(1, '/users/saundo/qzanalytics/')\n",
    "from qzanalytics.adapters.redshift import load_conn\n",
    "from qzanalytics.usecases.system_checks import RedshiftAssist\n",
    "\n",
    "# Google Analytics\n",
    "import qzanalytics.adapters.google_analytics as GA\n",
    "\n",
    "KEY_FILE_LOCATION = '/users/saundo/Desktop/Credentials/spherical-realm-210014-e0d0262b314f.json' \n",
    "SCOPES = ['https://www.googleapis.com/auth/analytics.readonly']\n",
    "VIEW_ID = '167490341'\n",
    "\n",
    "ga = GA.GoogleAnalyticsAPI(KEY_FILE_LOCATION, SCOPES, VIEW_ID)\n",
    "\n",
    "QS = 'query_snippet'\n",
    "\n",
    "# pandas options\n",
    "pd.options.display.max_rows = 999\n",
    "pd.options.display.max_colwidth = 100"
   ]
  },
  {
   "cell_type": "markdown",
   "metadata": {},
   "source": [
    "# Redshift cost"
   ]
  },
  {
   "cell_type": "code",
   "execution_count": null,
   "metadata": {},
   "outputs": [],
   "source": [
    "RA = RedshiftAssist()\n",
    "cost = RA.spectrum_cost_report()\n",
    "cost['date'] = cost['starttime'].dt.date"
   ]
  },
  {
   "cell_type": "code",
   "execution_count": null,
   "metadata": {},
   "outputs": [],
   "source": [
    "cost.head()"
   ]
  },
  {
   "cell_type": "code",
   "execution_count": null,
   "metadata": {},
   "outputs": [],
   "source": [
    "cost['date'].min()"
   ]
  },
  {
   "cell_type": "code",
   "execution_count": null,
   "metadata": {},
   "outputs": [],
   "source": [
    "cost.sort_values('cost', ascending=False).iloc[1][QS]"
   ]
  },
  {
   "cell_type": "code",
   "execution_count": null,
   "metadata": {},
   "outputs": [],
   "source": []
  },
  {
   "cell_type": "code",
   "execution_count": 9,
   "metadata": {},
   "outputs": [
    {
     "data": {
      "text/plain": [
       "655500.0"
      ]
     },
     "execution_count": 9,
     "metadata": {},
     "output_type": "execute_result"
    }
   ],
   "source": [
    "sale = 1_350_000\n",
    "com = 0.07\n",
    "mortgage = 600_000\n",
    "\n",
    "\n",
    "proceeds = sale * (1 - com)\n",
    "proceeds - mortgage"
   ]
  },
  {
   "cell_type": "markdown",
   "metadata": {},
   "source": [
    "# Redshift Queries"
   ]
  },
  {
   "cell_type": "code",
   "execution_count": 4,
   "metadata": {},
   "outputs": [],
   "source": [
    "query = (\n",
    "    f\"\"\"\n",
    "    SELECT fullvisitorid, userid\n",
    "    FROM campaign_reporting.ga_events_partition\n",
    "    WHERE date = '20200702'\n",
    "    AND userid != 'None'\n",
    "    GROUP BY fullvisitorid, userid\n",
    "    \"\"\"\n",
    ")\n",
    "\n",
    "conn = load_conn()\n",
    "with conn as f:\n",
    "    df = pd.read_sql_query(query, f)"
   ]
  },
  {
   "cell_type": "code",
   "execution_count": 5,
   "metadata": {},
   "outputs": [
    {
     "data": {
      "text/html": [
       "<div>\n",
       "<style scoped>\n",
       "    .dataframe tbody tr th:only-of-type {\n",
       "        vertical-align: middle;\n",
       "    }\n",
       "\n",
       "    .dataframe tbody tr th {\n",
       "        vertical-align: top;\n",
       "    }\n",
       "\n",
       "    .dataframe thead th {\n",
       "        text-align: right;\n",
       "    }\n",
       "</style>\n",
       "<table border=\"1\" class=\"dataframe\">\n",
       "  <thead>\n",
       "    <tr style=\"text-align: right;\">\n",
       "      <th></th>\n",
       "      <th>fullvisitorid</th>\n",
       "      <th>userid</th>\n",
       "    </tr>\n",
       "  </thead>\n",
       "  <tbody>\n",
       "  </tbody>\n",
       "</table>\n",
       "</div>"
      ],
      "text/plain": [
       "Empty DataFrame\n",
       "Columns: [fullvisitorid, userid]\n",
       "Index: []"
      ]
     },
     "execution_count": 5,
     "metadata": {},
     "output_type": "execute_result"
    }
   ],
   "source": [
    "df"
   ]
  },
  {
   "cell_type": "code",
   "execution_count": null,
   "metadata": {},
   "outputs": [],
   "source": []
  },
  {
   "cell_type": "code",
   "execution_count": null,
   "metadata": {},
   "outputs": [],
   "source": [
    "query = (\n",
    "    f\"\"\"\n",
    "    SELECT *\n",
    "    FROM campaign_reporting.mem_dash_finance\n",
    "    \"\"\"\n",
    ")\n",
    "\n",
    "conn = load_conn()\n",
    "with conn as f:\n",
    "    df = pd.read_sql_query(query, f)"
   ]
  },
  {
   "cell_type": "code",
   "execution_count": null,
   "metadata": {},
   "outputs": [],
   "source": [
    "df.to_csv('tableau_dash_finance.csv')"
   ]
  },
  {
   "cell_type": "code",
   "execution_count": null,
   "metadata": {},
   "outputs": [],
   "source": [
    "df['plan_name'].value_counts()"
   ]
  },
  {
   "cell_type": "code",
   "execution_count": null,
   "metadata": {},
   "outputs": [],
   "source": [
    "df"
   ]
  },
  {
   "cell_type": "code",
   "execution_count": null,
   "metadata": {},
   "outputs": [],
   "source": []
  },
  {
   "cell_type": "code",
   "execution_count": null,
   "metadata": {},
   "outputs": [],
   "source": [
    "CATEGORY = 'daily-brief – americas'\n",
    "\n",
    "# grab all dates in \n",
    "query = (\n",
    "    f\"\"\"\n",
    "    WITH meta AS (\n",
    "        SELECT marketing_campaign_id, marketing_campaign_name, date\n",
    "        FROM campaign_reporting.email_sendgrid_meta\n",
    "        WHERE category = '{CATEGORY}'\n",
    "    ),\n",
    "    stats AS (\n",
    "        SELECT marketing_campaign_id, event, COUNT(email_id) AS ct,\n",
    "               COUNT(DISTINCT email_id) AS unique\n",
    "        FROM campaign_reporting.email_sendgrid_partition\n",
    "        WHERE marketing_campaign_id IN (\n",
    "            SELECT marketing_campaign_id FROM meta)\n",
    "        GROUP BY marketing_campaign_id, event\n",
    "    )\n",
    "    SELECT *  \n",
    "    FROM stats\n",
    "    LEFT JOIN meta\n",
    "    ON stats.marketing_campaign_id = meta.marketing_campaign_id\n",
    "    \"\"\"\n",
    ")\n",
    "\n",
    "conn = load_conn()\n",
    "with conn as f:\n",
    "    df = pd.read_sql_query(query, f)"
   ]
  },
  {
   "cell_type": "code",
   "execution_count": null,
   "metadata": {},
   "outputs": [],
   "source": [
    "# grab all dates in \n",
    "query = (\n",
    "    f\"\"\"\n",
    "    SELECT *\n",
    "    FROM svv_external_columns\n",
    "    WHERE schemaname = 'spectrum'\n",
    "    \"\"\"\n",
    ")\n",
    "\n",
    "conn = load_conn()\n",
    "with conn as f:\n",
    "    df = pd.read_sql_query(query, f)\n",
    "    \n",
    "df.head(10)"
   ]
  },
  {
   "cell_type": "code",
   "execution_count": 2,
   "metadata": {},
   "outputs": [
    {
     "data": {
      "text/html": [
       "<div>\n",
       "<style scoped>\n",
       "    .dataframe tbody tr th:only-of-type {\n",
       "        vertical-align: middle;\n",
       "    }\n",
       "\n",
       "    .dataframe tbody tr th {\n",
       "        vertical-align: top;\n",
       "    }\n",
       "\n",
       "    .dataframe thead th {\n",
       "        text-align: right;\n",
       "    }\n",
       "</style>\n",
       "<table border=\"1\" class=\"dataframe\">\n",
       "  <thead>\n",
       "    <tr style=\"text-align: right;\">\n",
       "      <th></th>\n",
       "      <th>tablename</th>\n",
       "      <th>values</th>\n",
       "      <th>location</th>\n",
       "    </tr>\n",
       "  </thead>\n",
       "  <tbody>\n",
       "    <tr>\n",
       "      <th>0</th>\n",
       "      <td>email_growth</td>\n",
       "      <td>[\"20200501\"]</td>\n",
       "      <td>s3://qz-analytics/bigquery_ga/email_growth/date=20200501</td>\n",
       "    </tr>\n",
       "    <tr>\n",
       "      <th>1</th>\n",
       "      <td>email_growth</td>\n",
       "      <td>[\"20200502\"]</td>\n",
       "      <td>s3://qz-analytics/bigquery_ga/email_growth/date=20200502</td>\n",
       "    </tr>\n",
       "    <tr>\n",
       "      <th>2</th>\n",
       "      <td>email_growth</td>\n",
       "      <td>[\"20200503\"]</td>\n",
       "      <td>s3://qz-analytics/bigquery_ga/email_growth/date=20200503</td>\n",
       "    </tr>\n",
       "    <tr>\n",
       "      <th>3</th>\n",
       "      <td>email_growth</td>\n",
       "      <td>[\"20200504\"]</td>\n",
       "      <td>s3://qz-analytics/bigquery_ga/email_growth/date=20200504</td>\n",
       "    </tr>\n",
       "    <tr>\n",
       "      <th>4</th>\n",
       "      <td>email_growth</td>\n",
       "      <td>[\"20200505\"]</td>\n",
       "      <td>s3://qz-analytics/bigquery_ga/email_growth/date=20200505</td>\n",
       "    </tr>\n",
       "    <tr>\n",
       "      <th>5</th>\n",
       "      <td>email_growth</td>\n",
       "      <td>[\"20200506\"]</td>\n",
       "      <td>s3://qz-analytics/bigquery_ga/email_growth/date=20200506</td>\n",
       "    </tr>\n",
       "    <tr>\n",
       "      <th>6</th>\n",
       "      <td>email_growth</td>\n",
       "      <td>[\"20200507\"]</td>\n",
       "      <td>s3://qz-analytics/bigquery_ga/email_growth/date=20200507</td>\n",
       "    </tr>\n",
       "    <tr>\n",
       "      <th>7</th>\n",
       "      <td>email_growth</td>\n",
       "      <td>[\"20200508\"]</td>\n",
       "      <td>s3://qz-analytics/bigquery_ga/email_growth/date=20200508</td>\n",
       "    </tr>\n",
       "    <tr>\n",
       "      <th>8</th>\n",
       "      <td>email_growth</td>\n",
       "      <td>[\"20200509\"]</td>\n",
       "      <td>s3://qz-analytics/bigquery_ga/email_growth/date=20200509</td>\n",
       "    </tr>\n",
       "    <tr>\n",
       "      <th>9</th>\n",
       "      <td>email_growth</td>\n",
       "      <td>[\"20200510\"]</td>\n",
       "      <td>s3://qz-analytics/bigquery_ga/email_growth/date=20200510</td>\n",
       "    </tr>\n",
       "  </tbody>\n",
       "</table>\n",
       "</div>"
      ],
      "text/plain": [
       "      tablename        values  \\\n",
       "0  email_growth  [\"20200501\"]   \n",
       "1  email_growth  [\"20200502\"]   \n",
       "2  email_growth  [\"20200503\"]   \n",
       "3  email_growth  [\"20200504\"]   \n",
       "4  email_growth  [\"20200505\"]   \n",
       "5  email_growth  [\"20200506\"]   \n",
       "6  email_growth  [\"20200507\"]   \n",
       "7  email_growth  [\"20200508\"]   \n",
       "8  email_growth  [\"20200509\"]   \n",
       "9  email_growth  [\"20200510\"]   \n",
       "\n",
       "                                                   location  \n",
       "0  s3://qz-analytics/bigquery_ga/email_growth/date=20200501  \n",
       "1  s3://qz-analytics/bigquery_ga/email_growth/date=20200502  \n",
       "2  s3://qz-analytics/bigquery_ga/email_growth/date=20200503  \n",
       "3  s3://qz-analytics/bigquery_ga/email_growth/date=20200504  \n",
       "4  s3://qz-analytics/bigquery_ga/email_growth/date=20200505  \n",
       "5  s3://qz-analytics/bigquery_ga/email_growth/date=20200506  \n",
       "6  s3://qz-analytics/bigquery_ga/email_growth/date=20200507  \n",
       "7  s3://qz-analytics/bigquery_ga/email_growth/date=20200508  \n",
       "8  s3://qz-analytics/bigquery_ga/email_growth/date=20200509  \n",
       "9  s3://qz-analytics/bigquery_ga/email_growth/date=20200510  "
      ]
     },
     "execution_count": 2,
     "metadata": {},
     "output_type": "execute_result"
    }
   ],
   "source": [
    "# grab all dates in \n",
    "query = (\n",
    "    f\"\"\"\n",
    "    SELECT tablename, values, location\n",
    "    FROM SVV_EXTERNAL_PARTITIONS\n",
    "    WHERE schemaname = 'campaign_reporting'\n",
    "    \"\"\"\n",
    ")\n",
    "\n",
    "conn = load_conn()\n",
    "with conn as f:\n",
    "    df = pd.read_sql_query(query, f)\n",
    "    \n",
    "df.head(10)"
   ]
  },
  {
   "cell_type": "code",
   "execution_count": 3,
   "metadata": {},
   "outputs": [
    {
     "data": {
      "text/plain": [
       "ga_events_partition               680\n",
       "ga_events_page                    315\n",
       "vent_events_live                  278\n",
       "gluey_2019                        227\n",
       "sendgrid_test                     194\n",
       "ga_events_ad_video                 78\n",
       "ga_events_ad_interactions          78\n",
       "ga_events_ad_impressions           78\n",
       "email_growth                       72\n",
       "membership_events_bq_partition     36\n",
       "Name: tablename, dtype: int64"
      ]
     },
     "execution_count": 3,
     "metadata": {},
     "output_type": "execute_result"
    }
   ],
   "source": [
    "df['tablename'].value_counts()"
   ]
  },
  {
   "cell_type": "code",
   "execution_count": 4,
   "metadata": {},
   "outputs": [
    {
     "data": {
      "text/html": [
       "<div>\n",
       "<style scoped>\n",
       "    .dataframe tbody tr th:only-of-type {\n",
       "        vertical-align: middle;\n",
       "    }\n",
       "\n",
       "    .dataframe tbody tr th {\n",
       "        vertical-align: top;\n",
       "    }\n",
       "\n",
       "    .dataframe thead th {\n",
       "        text-align: right;\n",
       "    }\n",
       "</style>\n",
       "<table border=\"1\" class=\"dataframe\">\n",
       "  <thead>\n",
       "    <tr style=\"text-align: right;\">\n",
       "      <th></th>\n",
       "      <th>tablename</th>\n",
       "      <th>values</th>\n",
       "      <th>location</th>\n",
       "    </tr>\n",
       "  </thead>\n",
       "  <tbody>\n",
       "    <tr>\n",
       "      <th>1748</th>\n",
       "      <td>sendgrid_test</td>\n",
       "      <td>[\"20200703\"]</td>\n",
       "      <td>s3://qz-analytics/sendgrid/spectrum/partition_date=20200703</td>\n",
       "    </tr>\n",
       "    <tr>\n",
       "      <th>1749</th>\n",
       "      <td>sendgrid_test</td>\n",
       "      <td>[\"20200704\"]</td>\n",
       "      <td>s3://qz-analytics/sendgrid/spectrum/partition_date=20200704</td>\n",
       "    </tr>\n",
       "    <tr>\n",
       "      <th>1750</th>\n",
       "      <td>sendgrid_test</td>\n",
       "      <td>[\"20200705\"]</td>\n",
       "      <td>s3://qz-analytics/sendgrid/spectrum/partition_date=20200705</td>\n",
       "    </tr>\n",
       "    <tr>\n",
       "      <th>1751</th>\n",
       "      <td>sendgrid_test</td>\n",
       "      <td>[\"20200706\"]</td>\n",
       "      <td>s3://qz-analytics/sendgrid/spectrum/partition_date=20200706</td>\n",
       "    </tr>\n",
       "    <tr>\n",
       "      <th>1752</th>\n",
       "      <td>sendgrid_test</td>\n",
       "      <td>[\"20200707\"]</td>\n",
       "      <td>s3://qz-analytics/sendgrid/spectrum/partition_date=20200707</td>\n",
       "    </tr>\n",
       "    <tr>\n",
       "      <th>1753</th>\n",
       "      <td>sendgrid_test</td>\n",
       "      <td>[\"20200708\"]</td>\n",
       "      <td>s3://qz-analytics/sendgrid/spectrum/partition_date=20200708</td>\n",
       "    </tr>\n",
       "    <tr>\n",
       "      <th>1754</th>\n",
       "      <td>sendgrid_test</td>\n",
       "      <td>[\"20200709\"]</td>\n",
       "      <td>s3://qz-analytics/sendgrid/spectrum/partition_date=20200709</td>\n",
       "    </tr>\n",
       "    <tr>\n",
       "      <th>1755</th>\n",
       "      <td>sendgrid_test</td>\n",
       "      <td>[\"20200710\"]</td>\n",
       "      <td>s3://qz-analytics/sendgrid/spectrum/partition_date=20200710</td>\n",
       "    </tr>\n",
       "    <tr>\n",
       "      <th>1756</th>\n",
       "      <td>sendgrid_test</td>\n",
       "      <td>[\"20200711\"]</td>\n",
       "      <td>s3://qz-analytics/sendgrid/spectrum/partition_date=20200711</td>\n",
       "    </tr>\n",
       "    <tr>\n",
       "      <th>1757</th>\n",
       "      <td>sendgrid_test</td>\n",
       "      <td>[\"20200712\"]</td>\n",
       "      <td>s3://qz-analytics/sendgrid/spectrum/partition_date=20200712</td>\n",
       "    </tr>\n",
       "  </tbody>\n",
       "</table>\n",
       "</div>"
      ],
      "text/plain": [
       "          tablename        values  \\\n",
       "1748  sendgrid_test  [\"20200703\"]   \n",
       "1749  sendgrid_test  [\"20200704\"]   \n",
       "1750  sendgrid_test  [\"20200705\"]   \n",
       "1751  sendgrid_test  [\"20200706\"]   \n",
       "1752  sendgrid_test  [\"20200707\"]   \n",
       "1753  sendgrid_test  [\"20200708\"]   \n",
       "1754  sendgrid_test  [\"20200709\"]   \n",
       "1755  sendgrid_test  [\"20200710\"]   \n",
       "1756  sendgrid_test  [\"20200711\"]   \n",
       "1757  sendgrid_test  [\"20200712\"]   \n",
       "\n",
       "                                                         location  \n",
       "1748  s3://qz-analytics/sendgrid/spectrum/partition_date=20200703  \n",
       "1749  s3://qz-analytics/sendgrid/spectrum/partition_date=20200704  \n",
       "1750  s3://qz-analytics/sendgrid/spectrum/partition_date=20200705  \n",
       "1751  s3://qz-analytics/sendgrid/spectrum/partition_date=20200706  \n",
       "1752  s3://qz-analytics/sendgrid/spectrum/partition_date=20200707  \n",
       "1753  s3://qz-analytics/sendgrid/spectrum/partition_date=20200708  \n",
       "1754  s3://qz-analytics/sendgrid/spectrum/partition_date=20200709  \n",
       "1755  s3://qz-analytics/sendgrid/spectrum/partition_date=20200710  \n",
       "1756  s3://qz-analytics/sendgrid/spectrum/partition_date=20200711  \n",
       "1757  s3://qz-analytics/sendgrid/spectrum/partition_date=20200712  "
      ]
     },
     "execution_count": 4,
     "metadata": {},
     "output_type": "execute_result"
    }
   ],
   "source": [
    "df[df['tablename'] == 'sendgrid_test'].tail(10)"
   ]
  },
  {
   "cell_type": "code",
   "execution_count": 5,
   "metadata": {},
   "outputs": [],
   "source": [
    "query = (\n",
    "    \"\"\"\n",
    "    WITH temp AS (\n",
    "        SELECT st.event\n",
    "        FROM campaign_reporting.sendgrid_test st\n",
    "        WHERE st.marketing_campaign_id IS NOT NULL\n",
    "        AND partition_date = '20200712'\n",
    "    )\n",
    "    SELECT event, COUNT(event) as ct\n",
    "    FROM temp\n",
    "    GROUP BY event\n",
    "    ORDER BY ct DESC\n",
    "    \"\"\"\n",
    ")\n",
    "\n",
    "conn = load_conn()\n",
    "with conn as f:\n",
    "    df1 = pd.read_sql_query(query, f)"
   ]
  },
  {
   "cell_type": "code",
   "execution_count": 6,
   "metadata": {},
   "outputs": [
    {
     "data": {
      "text/html": [
       "<div>\n",
       "<style scoped>\n",
       "    .dataframe tbody tr th:only-of-type {\n",
       "        vertical-align: middle;\n",
       "    }\n",
       "\n",
       "    .dataframe tbody tr th {\n",
       "        vertical-align: top;\n",
       "    }\n",
       "\n",
       "    .dataframe thead th {\n",
       "        text-align: right;\n",
       "    }\n",
       "</style>\n",
       "<table border=\"1\" class=\"dataframe\">\n",
       "  <thead>\n",
       "    <tr style=\"text-align: right;\">\n",
       "      <th></th>\n",
       "      <th>event</th>\n",
       "      <th>ct</th>\n",
       "    </tr>\n",
       "  </thead>\n",
       "  <tbody>\n",
       "    <tr>\n",
       "      <th>0</th>\n",
       "      <td>processed</td>\n",
       "      <td>694950</td>\n",
       "    </tr>\n",
       "    <tr>\n",
       "      <th>1</th>\n",
       "      <td>delivered</td>\n",
       "      <td>687125</td>\n",
       "    </tr>\n",
       "    <tr>\n",
       "      <th>2</th>\n",
       "      <td>open</td>\n",
       "      <td>206811</td>\n",
       "    </tr>\n",
       "    <tr>\n",
       "      <th>3</th>\n",
       "      <td>dropped</td>\n",
       "      <td>81935</td>\n",
       "    </tr>\n",
       "    <tr>\n",
       "      <th>4</th>\n",
       "      <td>deferred</td>\n",
       "      <td>29052</td>\n",
       "    </tr>\n",
       "    <tr>\n",
       "      <th>5</th>\n",
       "      <td>click</td>\n",
       "      <td>10985</td>\n",
       "    </tr>\n",
       "    <tr>\n",
       "      <th>6</th>\n",
       "      <td>bounce</td>\n",
       "      <td>10218</td>\n",
       "    </tr>\n",
       "    <tr>\n",
       "      <th>7</th>\n",
       "      <td>group_unsubscribe</td>\n",
       "      <td>1430</td>\n",
       "    </tr>\n",
       "    <tr>\n",
       "      <th>8</th>\n",
       "      <td>unsubscribe</td>\n",
       "      <td>152</td>\n",
       "    </tr>\n",
       "    <tr>\n",
       "      <th>9</th>\n",
       "      <td>group_resubscribe</td>\n",
       "      <td>37</td>\n",
       "    </tr>\n",
       "    <tr>\n",
       "      <th>10</th>\n",
       "      <td>spamreport</td>\n",
       "      <td>19</td>\n",
       "    </tr>\n",
       "  </tbody>\n",
       "</table>\n",
       "</div>"
      ],
      "text/plain": [
       "                event      ct\n",
       "0           processed  694950\n",
       "1           delivered  687125\n",
       "2                open  206811\n",
       "3             dropped   81935\n",
       "4            deferred   29052\n",
       "5               click   10985\n",
       "6              bounce   10218\n",
       "7   group_unsubscribe    1430\n",
       "8         unsubscribe     152\n",
       "9   group_resubscribe      37\n",
       "10         spamreport      19"
      ]
     },
     "execution_count": 6,
     "metadata": {},
     "output_type": "execute_result"
    }
   ],
   "source": [
    "df1"
   ]
  },
  {
   "cell_type": "code",
   "execution_count": null,
   "metadata": {},
   "outputs": [],
   "source": [
    "# grab all dates in \n",
    "query = (\n",
    "    f\"\"\"\n",
    "    SELECT \"table\", sortkey1, size, pct_used, skew_rows, vacuum_sort_benefit\n",
    "    FROM SVV_TABLE_INFO\n",
    "    WHERE schema = 'public'\n",
    "    \"\"\"\n",
    ")\n",
    "\n",
    "conn = load_conn()\n",
    "with conn as f:\n",
    "    df = pd.read_sql_query(query, f)\n",
    "    \n",
    "df.head(10)"
   ]
  },
  {
   "cell_type": "code",
   "execution_count": null,
   "metadata": {},
   "outputs": [],
   "source": [
    "df.sort_values('size', ascending=False)"
   ]
  },
  {
   "cell_type": "code",
   "execution_count": null,
   "metadata": {},
   "outputs": [],
   "source": []
  },
  {
   "cell_type": "code",
   "execution_count": null,
   "metadata": {},
   "outputs": [],
   "source": [
    "# grab all dates in \n",
    "query = (\n",
    "    f\"\"\"\n",
    "    SELECT event_date, COUNT(event_date) as ct\n",
    "    FROM sendgrid_email_campaigns\n",
    "    GROUP BY event_date\n",
    "    ORDER BY ct DESC\n",
    "    \"\"\"\n",
    ")\n",
    "\n",
    "conn = load_conn()\n",
    "with conn as f:\n",
    "    df = pd.read_sql_query(query, f)\n",
    "    \n",
    "df.info()"
   ]
  },
  {
   "cell_type": "code",
   "execution_count": null,
   "metadata": {},
   "outputs": [],
   "source": [
    "# grab all dates in \n",
    "query = (\n",
    "    f\"\"\"\n",
    "    SELECT event, COUNT(event) as ct\n",
    "    FROM sendgrid_email_campaigns\n",
    "    WHERE event_date = '20200604'\n",
    "    GROUP BY event\n",
    "    ORDER BY ct DESC\n",
    "    \"\"\"\n",
    ")\n",
    "\n",
    "conn = load_conn()\n",
    "with conn as f:\n",
    "    df = pd.read_sql_query(query, f)\n",
    "    \n",
    "df.info()"
   ]
  },
  {
   "cell_type": "code",
   "execution_count": null,
   "metadata": {},
   "outputs": [],
   "source": [
    "df"
   ]
  },
  {
   "cell_type": "code",
   "execution_count": null,
   "metadata": {},
   "outputs": [],
   "source": [
    "# grab all dates in \n",
    "query = (\n",
    "    f\"\"\"\n",
    "    SELECT event, COUNT(event) as ct\n",
    "    FROM campaign_reporting.sendgrid_test\n",
    "    WHERE partition_date = '20200604'\n",
    "    GROUP BY event\n",
    "    ORDER BY ct DESC\n",
    "    \"\"\"\n",
    ")\n",
    "\n",
    "conn = load_conn()\n",
    "with conn as f:\n",
    "    dfx = pd.read_sql_query(query, f)"
   ]
  },
  {
   "cell_type": "code",
   "execution_count": null,
   "metadata": {},
   "outputs": [],
   "source": [
    "dfx"
   ]
  },
  {
   "cell_type": "code",
   "execution_count": null,
   "metadata": {},
   "outputs": [],
   "source": [
    "query = (\n",
    "    \"\"\"\n",
    "    WITH temp AS (\n",
    "        SELECT st.category,st.event,st.ip,st.marketing_campaign_id,st.marketing_campaign_name,st.sg_event_id,st.sg_message_id,st.timestamp AS event_timestamp,\n",
    "               st.useragent,st.url,st.url_offset,st.marketing_campaign_split_id,st.marketing_campaign_version,st.partition_date AS event_date, eim.email_id\n",
    "        FROM campaign_reporting.sendgrid_test st\n",
    "        LEFT JOIN campaign_reporting.email_id_map eim\n",
    "        ON st.email = eim.email\n",
    "        AND st.marketing_campaign_id IS NOT NULL\n",
    "        AND partition_date = '20200712'\n",
    "    )\n",
    "    SELECT event, COUNT(event) as ct\n",
    "    FROM temp\n",
    "    GROUP BY event\n",
    "    ORDER BY ct DESC\n",
    "    \"\"\"\n",
    ")\n",
    "\n",
    "conn = load_conn()\n",
    "with conn as f:\n",
    "    df1 = pd.read_sql_query(query, f)"
   ]
  },
  {
   "cell_type": "code",
   "execution_count": null,
   "metadata": {},
   "outputs": [],
   "source": [
    "df1"
   ]
  },
  {
   "cell_type": "code",
   "execution_count": null,
   "metadata": {},
   "outputs": [],
   "source": [
    "df1"
   ]
  },
  {
   "cell_type": "code",
   "execution_count": null,
   "metadata": {},
   "outputs": [],
   "source": []
  },
  {
   "cell_type": "code",
   "execution_count": null,
   "metadata": {},
   "outputs": [],
   "source": []
  },
  {
   "cell_type": "code",
   "execution_count": null,
   "metadata": {},
   "outputs": [],
   "source": [
    "# grab all dates in \n",
    "query = (\n",
    "    f\"\"\"\n",
    "    SELECT \n",
    "        date, \n",
    "        TO_CHAR(\"datetime\", 'HH24:MI') as hhmm,\n",
    "        COUNT(date)\n",
    "    FROM ga_events_page\n",
    "    WHERE datetime > '2019-12-24'\n",
    "    GROUP BY date, hhmm\n",
    "    \"\"\"\n",
    ")\n",
    "\n",
    "conn = load_conn()\n",
    "with conn as f:\n",
    "    df = pd.read_sql_query(query, f)\n",
    "    \n",
    "df.info()"
   ]
  },
  {
   "cell_type": "code",
   "execution_count": null,
   "metadata": {},
   "outputs": [],
   "source": [
    "df['date'] = pd.to_datetime(df['date'], format='%Y%m%d')\n",
    "df['dayofweek'] = df['date'].dt.dayofweek\n",
    "df['today'] = '20200623 ' + df['hhmm']\n",
    "df['today'] = pd.to_datetime(df['today'], format='%Y%m%d %H:%M')"
   ]
  },
  {
   "cell_type": "code",
   "execution_count": null,
   "metadata": {},
   "outputs": [],
   "source": [
    "df.groupby('today')['count'].mean().rolling(5).mean().reset_index()"
   ]
  },
  {
   "cell_type": "code",
   "execution_count": null,
   "metadata": {},
   "outputs": [],
   "source": [
    "max(10, 20)"
   ]
  },
  {
   "cell_type": "code",
   "execution_count": null,
   "metadata": {},
   "outputs": [],
   "source": [
    "today = dt.datetime.now()\n",
    "today = pd.to_datetime(today).dayofweek"
   ]
  },
  {
   "cell_type": "code",
   "execution_count": null,
   "metadata": {},
   "outputs": [],
   "source": [
    "df['HHMM'] = df['date'].apply(lambda x: x.strftime('%H') + x.strftime('%M'))"
   ]
  },
  {
   "cell_type": "code",
   "execution_count": null,
   "metadata": {},
   "outputs": [],
   "source": [
    "df['date'].dt.minute"
   ]
  },
  {
   "cell_type": "code",
   "execution_count": null,
   "metadata": {},
   "outputs": [],
   "source": [
    "df['hours']"
   ]
  },
  {
   "cell_type": "code",
   "execution_count": null,
   "metadata": {},
   "outputs": [],
   "source": [
    "option = 'today'\n",
    "# option = 'all'\n",
    "\n",
    "if option == 'today':\n",
    "    dfx = df[df['dayofweek'] == today]\n",
    "else:\n",
    "    dfx = df\n",
    "    \n",
    "dfx = dfx.groupby(['hours', 'mins'], as_index=False)['count'].mean().rolling(5).mean().dropna()\n",
    "# dfx['datetime'] = pd.to_datetime('20200622')"
   ]
  },
  {
   "cell_type": "code",
   "execution_count": null,
   "metadata": {},
   "outputs": [],
   "source": [
    "dfx['datetime'] = '20200622:' + dfx['hours'].astype(int).astype(str) + dfx['mins'].astype(int).astype(str)\n"
   ]
  },
  {
   "cell_type": "code",
   "execution_count": null,
   "metadata": {},
   "outputs": [],
   "source": [
    "date = '20200621'\n",
    "\n",
    "st = dt.datetime.strptime(date, \"%Y%m%d\")\n",
    "st - dt.timedelta(days=180)"
   ]
  },
  {
   "cell_type": "code",
   "execution_count": null,
   "metadata": {},
   "outputs": [],
   "source": [
    "df['date'] = pd.to_datetime(df['date'])"
   ]
  },
  {
   "cell_type": "code",
   "execution_count": null,
   "metadata": {},
   "outputs": [],
   "source": []
  },
  {
   "cell_type": "code",
   "execution_count": null,
   "metadata": {},
   "outputs": [],
   "source": []
  },
  {
   "cell_type": "code",
   "execution_count": null,
   "metadata": {},
   "outputs": [],
   "source": []
  },
  {
   "cell_type": "markdown",
   "metadata": {},
   "source": [
    "# Google Analytics API"
   ]
  },
  {
   "cell_type": "markdown",
   "metadata": {},
   "source": [
    "### helpful GA variable reference\n",
    "\n",
    "https://ga-dev-tools.appspot.com/query-explorer/\n",
    "\n",
    "\n",
    "### not as helpful API reference\n",
    "https://developers.google.com/analytics/devguides/reporting/core/v4/rest/v4/reports/batchGet#Operator"
   ]
  },
  {
   "cell_type": "code",
   "execution_count": null,
   "metadata": {},
   "outputs": [],
   "source": [
    "d1 = '2018-11-24'\n",
    "d2 = '2018-11-24'\n",
    "\n",
    "metrics = [\n",
    "    {'expression': 'ga:pageviews'},\n",
    "#     {'expression': 'ga:dfpImpressions'}\n",
    "]\n",
    "\n",
    "dimensions = [\n",
    "    {'name': 'ga:dimension18'},\n",
    "    {'name': 'ga:dimension26'}\n",
    "]\n",
    "\n",
    "dimension_filters = [\n",
    "    {'operator': 'OR', \n",
    "     'filters':\n",
    "         [{\"dimensionName\": \"ga:dimension27\",\n",
    "           \"not\": False,\n",
    "           \"operator\": \"EXACT\",\n",
    "           \"expressions\": \"1\"}]\n",
    "    }\n",
    "]\n",
    "\n",
    "# segments = {\"segmentId\": \"gaid::-3\"}\n",
    "\n",
    "# run\n",
    "df1 = ga.call_api(d1, d2, metrics)\n",
    "\n",
    "df2 = ga.call_api(d1, d2, metrics, dimensions=dimensions,  \n",
    "                 dimension_filters=dimension_filters,\n",
    "                 segments=None)"
   ]
  },
  {
   "cell_type": "code",
   "execution_count": null,
   "metadata": {},
   "outputs": [],
   "source": [
    "df1"
   ]
  },
  {
   "cell_type": "code",
   "execution_count": null,
   "metadata": {},
   "outputs": [],
   "source": [
    "df2"
   ]
  },
  {
   "cell_type": "code",
   "execution_count": null,
   "metadata": {},
   "outputs": [],
   "source": []
  },
  {
   "cell_type": "code",
   "execution_count": null,
   "metadata": {},
   "outputs": [],
   "source": []
  },
  {
   "cell_type": "code",
   "execution_count": null,
   "metadata": {},
   "outputs": [],
   "source": []
  },
  {
   "cell_type": "code",
   "execution_count": null,
   "metadata": {},
   "outputs": [],
   "source": []
  },
  {
   "cell_type": "markdown",
   "metadata": {},
   "source": [
    "# dicking around"
   ]
  },
  {
   "cell_type": "code",
   "execution_count": null,
   "metadata": {},
   "outputs": [],
   "source": [
    "import datetime as dt"
   ]
  },
  {
   "cell_type": "code",
   "execution_count": null,
   "metadata": {},
   "outputs": [],
   "source": [
    "ub = dt.datetime(2020, 5, 20, 8, 8, 50)\n",
    "lb = dt.datetime(2020, 5, 20, 8, 8, 25)\n",
    "\n",
    "(ub - lb).seconds"
   ]
  },
  {
   "cell_type": "code",
   "execution_count": null,
   "metadata": {},
   "outputs": [],
   "source": [
    "class Query:\n",
    "    _subscription_latest_invoice = (\n",
    "            \"\"\"\n",
    "            SELECT *\n",
    "            FROM (\n",
    "                SELECT\n",
    "                    subscription_id,\n",
    "                    plan_id,\n",
    "                    subscription_status,\n",
    "                    current_period_start,\n",
    "                    current_period_end,\n",
    "                    trial_end,\n",
    "                    coupon_id,\n",
    "                    cancel_at_period_end,\n",
    "                    latest_invoice,\n",
    "                    event_timestamp,\n",
    "                    ROW_NUMBER() OVER(\n",
    "                        PARTITION BY subscription_id, latest_invoice\n",
    "                        ORDER BY event_timestamp DESC\n",
    "                        ) AS row_n\n",
    "                FROM stripe_customer_subscription\n",
    "                WHERE event_timestamp < 'XXMAXDATEXX'\n",
    "                AND latest_invoice != 'None'\n",
    "            )\n",
    "            WHERE row_n = 1\n",
    "            \"\"\"\n",
    "        )\n",
    "    \n",
    "    \n",
    "    def init(self):\n",
    "        pass\n",
    "    \n",
    "    @property\n",
    "    def subscription_latest_invoice(self):\n",
    "        \"\"\"\n",
    "        returns the most recent (event_timestamp) combination of:\n",
    "            subscription_id\n",
    "            latest_invoice\n",
    "\n",
    "        XXMAXDATEXX -> dummy string for replacing with desired max_cutoff\n",
    "        \"\"\"\n",
    "        \n",
    "        return self._subscription_latest_invoice"
   ]
  },
  {
   "cell_type": "code",
   "execution_count": null,
   "metadata": {},
   "outputs": [],
   "source": [
    "poop = Query()"
   ]
  },
  {
   "cell_type": "code",
   "execution_count": null,
   "metadata": {},
   "outputs": [],
   "source": [
    "\n",
    "poop.subscription_latest_invoice"
   ]
  },
  {
   "cell_type": "code",
   "execution_count": null,
   "metadata": {},
   "outputs": [],
   "source": []
  }
 ],
 "metadata": {
  "kernelspec": {
   "display_name": "Python 3",
   "language": "python",
   "name": "python3"
  },
  "language_info": {
   "codemirror_mode": {
    "name": "ipython",
    "version": 3
   },
   "file_extension": ".py",
   "mimetype": "text/x-python",
   "name": "python",
   "nbconvert_exporter": "python",
   "pygments_lexer": "ipython3",
   "version": "3.7.6"
  }
 },
 "nbformat": 4,
 "nbformat_minor": 4
}
